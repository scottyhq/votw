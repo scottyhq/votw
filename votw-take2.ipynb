{
 "cells": [
  {
   "cell_type": "markdown",
   "metadata": {},
   "source": [
    "# Mapping the largest Holocene Volcanic Eruptions (take 2)\n",
    "\n",
    "This notebook is an update of my dated blog post (https://scottyhq.github.io/blog/2014/02/08/mapping-volcanic-eruptions/) illustrating some great new tools\n",
    "\n",
    "The goal is to generate a map of major Holocene volcanic eruptions. Data is from the Smithsonian Global Volcanism Program. Recently the website was updated with improved search tools and the ability to download database search results to .csv format. We will search the eruptions database for volcano explosivity index (VEI) greater than 4. This index is a measure of the magnitude of an explosive volcanic eruption, and can be converted to erupted volume on a logarithmic scale.\n",
    "\n",
    "Note that Smithsonian has released some great tools recently, including a GeoServer to query data programmatically:\n",
    "http://volcano.si.edu/database/webservices.cfm. Previously, you had to manually search and download excel files, so this change is great for us programmers!"
   ]
  },
  {
   "cell_type": "code",
   "execution_count": 1,
   "metadata": {},
   "outputs": [],
   "source": [
    "# We will use the following excellent Python Packages\n",
    "import matplotlib.pyplot as plt \n",
    "import owslib \n",
    "from owslib.wfs import WebFeatureService\n",
    "import cartopy\n",
    "import cartopy.crs as ccrs\n",
    "import shapely\n",
    "from shapely import wkt \n",
    "import pandas as pd \n",
    "import geopandas as gpd \n",
    "from io import StringIO \n",
    "%matplotlib inline\n",
    "#%qtconsole #helpful for interaction"
   ]
  },
  {
   "cell_type": "markdown",
   "metadata": {},
   "source": [
    "## GeoServer WFS interaction with owslib and pandas"
   ]
  },
  {
   "cell_type": "code",
   "execution_count": 2,
   "metadata": {},
   "outputs": [
    {
     "data": {
      "text/plain": [
       "['GVP-VOTW:E3WebApp_EmissionPixels',\n",
       " 'GVP-VOTW:E3WebApp_Emissions',\n",
       " 'GVP-VOTW:E3WebApp_Eruptions1960',\n",
       " 'GVP-VOTW:E3WebApp_HoloceneVolcanoes',\n",
       " 'GVP-VOTW:GVP_Placemarks',\n",
       " 'GVP-VOTW:Smithsonian VOTW Holocene Volcanoes',\n",
       " 'GVP-VOTW:sivolcanodata',\n",
       " 'GVP-VOTW:VOTW_Holocene_Volcanoes',\n",
       " 'GVP-VOTW:VOTW_Holocene_Eruptions (test)',\n",
       " 'GVP-VOTW:VOTW_Pleistocene_Volcanoes']"
      ]
     },
     "execution_count": 2,
     "metadata": {},
     "output_type": "execute_result"
    }
   ],
   "source": [
    "# Connect to Smithsonian Geoserver, list contents\n",
    "wfs = WebFeatureService(url='https://webservices.volcano.si.edu/geoserver/GVP-VOTW/wfs', version='1.1.0')\n",
    "list(wfs.contents)"
   ]
  },
  {
   "cell_type": "code",
   "execution_count": 3,
   "metadata": {},
   "outputs": [
    {
     "name": "stdout",
     "output_type": "stream",
     "text": [
      "# Holocene Volcanoes= 1439\n",
      "# Holocene Volcanoes= 1439\n"
     ]
    }
   ],
   "source": [
    "# How many Holocene volcanoes are in the VOTW?\n",
    "# Read entire volcano list directly from server\n",
    "typename = 'GVP-VOTW:VOTW_Holocene_Volcanoes'\n",
    "output = 'csv'\n",
    "response = wfs.getfeature(typename=typename, outputFormat=output)\n",
    "dfV = pd.read_csv(StringIO(response.read()))\n",
    "print('# Holocene Volcanoes=', len(dfV))\n",
    "\n",
    "\n",
    "# NOTE: it's a good idea to save the file we use in case changes occur to the dataset on the server:\n",
    "typename = 'GVP-VOTW:VOTW_Holocene_Volcanoes'\n",
    "output = 'csv'\n",
    "csvname = 'votw.csv'\n",
    "response = wfs.getfeature(typename=typename, outputFormat=output)\n",
    "with open(csvname, 'w') as out:\n",
    "    out.write(response.read())\n",
    "    \n",
    "dfV = pd.read_csv(csvname)\n",
    "print('# Holocene Volcanoes=', len(dfV))"
   ]
  },
  {
   "cell_type": "code",
   "execution_count": 4,
   "metadata": {},
   "outputs": [],
   "source": [
    "# Query server by bounding box for particular region\n",
    "# (left, bottom, right, top) in the feature type's coordinates == (minx, miny, maxx, maxy)\n",
    "typename = 'GVP-VOTW:VOTW_Holocene_Volcanoes'\n",
    "bbox = (-80, 0, -75, 6)\n",
    "output = 'csv'\n",
    "response = wfs.getfeature(typename=typename, bbox=bbox, outputFormat=output)\n",
    "df = pd.read_csv(StringIO(response.read()))"
   ]
  },
  {
   "cell_type": "code",
   "execution_count": 5,
   "metadata": {},
   "outputs": [
    {
     "name": "stdout",
     "output_type": "stream",
     "text": [
      "Entries=  22\n"
     ]
    },
    {
     "data": {
      "text/html": [
       "<div>\n",
       "<style scoped>\n",
       "    .dataframe tbody tr th:only-of-type {\n",
       "        vertical-align: middle;\n",
       "    }\n",
       "\n",
       "    .dataframe tbody tr th {\n",
       "        vertical-align: top;\n",
       "    }\n",
       "\n",
       "    .dataframe thead th {\n",
       "        text-align: right;\n",
       "    }\n",
       "</style>\n",
       "<table border=\"1\" class=\"dataframe\">\n",
       "  <thead>\n",
       "    <tr style=\"text-align: right;\">\n",
       "      <th></th>\n",
       "      <th>FID</th>\n",
       "      <th>Volcano_Number</th>\n",
       "      <th>Volcano_Name</th>\n",
       "      <th>Primary_Volcano_Type</th>\n",
       "      <th>Last_Eruption_Year</th>\n",
       "      <th>Country</th>\n",
       "      <th>Geological_Summary</th>\n",
       "      <th>Region</th>\n",
       "      <th>Subregion</th>\n",
       "      <th>Latitude</th>\n",
       "      <th>Longitude</th>\n",
       "      <th>Elevation</th>\n",
       "      <th>Tectonic_Setting</th>\n",
       "      <th>Geologic_Epoch</th>\n",
       "      <th>Evidence_Category</th>\n",
       "      <th>Primary_Photo_Link</th>\n",
       "      <th>Primary_Photo_Caption</th>\n",
       "      <th>Primary_Photo_Credit</th>\n",
       "      <th>Major_Rock_Type</th>\n",
       "      <th>GeoLocation</th>\n",
       "    </tr>\n",
       "  </thead>\n",
       "  <tbody>\n",
       "    <tr>\n",
       "      <th>0</th>\n",
       "      <td>VOTW_Holocene_Volcanoes.fid--4d9842f7_162e410d...</td>\n",
       "      <td>210010</td>\n",
       "      <td>West Eifel Volcanic Field</td>\n",
       "      <td>Maar(s)</td>\n",
       "      <td>-8300.0</td>\n",
       "      <td>Germany</td>\n",
       "      <td>The West Eifel volcanic field in the Rhineland...</td>\n",
       "      <td>Mediterranean and Western Asia</td>\n",
       "      <td>Western Europe</td>\n",
       "      <td>50.170</td>\n",
       "      <td>6.85</td>\n",
       "      <td>600</td>\n",
       "      <td>Rift zone / Continental crust (&gt; 25 km)</td>\n",
       "      <td>Holocene</td>\n",
       "      <td>Eruption Dated</td>\n",
       "      <td>http://volcano.si.edu/photos/full/015001.jpg</td>\n",
       "      <td>The lake-filled Weinfelder maar is one of abou...</td>\n",
       "      <td>Photo by Richard Waitt, 1990 (U.S. Geological ...</td>\n",
       "      <td>Foidite</td>\n",
       "      <td>POINT (50.17 6.85)</td>\n",
       "    </tr>\n",
       "    <tr>\n",
       "      <th>1</th>\n",
       "      <td>VOTW_Holocene_Volcanoes.fid--4d9842f7_162e410d...</td>\n",
       "      <td>210020</td>\n",
       "      <td>Chaine des Puys</td>\n",
       "      <td>Lava dome(s)</td>\n",
       "      <td>-4040.0</td>\n",
       "      <td>France</td>\n",
       "      <td>The Chaîne des Puys, prominent in the history ...</td>\n",
       "      <td>Mediterranean and Western Asia</td>\n",
       "      <td>Western Europe</td>\n",
       "      <td>45.775</td>\n",
       "      <td>2.97</td>\n",
       "      <td>1464</td>\n",
       "      <td>Rift zone / Continental crust (&gt; 25 km)</td>\n",
       "      <td>Holocene</td>\n",
       "      <td>Eruption Dated</td>\n",
       "      <td>http://volcano.si.edu/photos/full/088002.jpg</td>\n",
       "      <td>The central part of the Chaîne des Puys volcan...</td>\n",
       "      <td>Photo by Ichio Moriya (Kanazawa University).</td>\n",
       "      <td>Basalt / Picro-Basalt</td>\n",
       "      <td>POINT (45.775 2.97)</td>\n",
       "    </tr>\n",
       "    <tr>\n",
       "      <th>2</th>\n",
       "      <td>VOTW_Holocene_Volcanoes.fid--4d9842f7_162e410d...</td>\n",
       "      <td>210030</td>\n",
       "      <td>Olot Volcanic Field</td>\n",
       "      <td>Pyroclastic cone(s)</td>\n",
       "      <td>NaN</td>\n",
       "      <td>Spain</td>\n",
       "      <td>The Olot volcanic field (also known as the Gar...</td>\n",
       "      <td>Mediterranean and Western Asia</td>\n",
       "      <td>Western Europe</td>\n",
       "      <td>42.170</td>\n",
       "      <td>2.53</td>\n",
       "      <td>893</td>\n",
       "      <td>Intraplate / Continental crust (&gt; 25 km)</td>\n",
       "      <td>Holocene</td>\n",
       "      <td>Evidence Credible</td>\n",
       "      <td>http://volcano.si.edu/photos/full/119091.jpg</td>\n",
       "      <td>The forested Volcà Montolivet cinder cone rise...</td>\n",
       "      <td>Photo by Puigalder (Wikimedia Commons).</td>\n",
       "      <td>Trachybasalt / Tephrite Basanite</td>\n",
       "      <td>POINT (42.17 2.53)</td>\n",
       "    </tr>\n",
       "    <tr>\n",
       "      <th>3</th>\n",
       "      <td>VOTW_Holocene_Volcanoes.fid--4d9842f7_162e410d...</td>\n",
       "      <td>210040</td>\n",
       "      <td>Calatrava Volcanic Field</td>\n",
       "      <td>Pyroclastic cone(s)</td>\n",
       "      <td>-3600.0</td>\n",
       "      <td>Spain</td>\n",
       "      <td>The Calatrava volcanic field lies in central S...</td>\n",
       "      <td>Mediterranean and Western Asia</td>\n",
       "      <td>Western Europe</td>\n",
       "      <td>38.870</td>\n",
       "      <td>-4.02</td>\n",
       "      <td>1117</td>\n",
       "      <td>Intraplate / Continental crust (&gt; 25 km)</td>\n",
       "      <td>Holocene</td>\n",
       "      <td>Eruption Dated</td>\n",
       "      <td>http://volcano.si.edu/photos/full/118054.jpg</td>\n",
       "      <td>Columba volcano, the youngest dated vent of th...</td>\n",
       "      <td>Photo by Rafael Becerra Ramírez, 2006 (Univers...</td>\n",
       "      <td>Basalt / Picro-Basalt</td>\n",
       "      <td>POINT (38.87 -4.02)</td>\n",
       "    </tr>\n",
       "    <tr>\n",
       "      <th>4</th>\n",
       "      <td>VOTW_Holocene_Volcanoes.fid--4d9842f7_162e410d...</td>\n",
       "      <td>211001</td>\n",
       "      <td>Larderello</td>\n",
       "      <td>Explosion crater(s)</td>\n",
       "      <td>1282.0</td>\n",
       "      <td>Italy</td>\n",
       "      <td>Larderello, one of the world's most productive...</td>\n",
       "      <td>Mediterranean and Western Asia</td>\n",
       "      <td>Italy</td>\n",
       "      <td>43.250</td>\n",
       "      <td>10.87</td>\n",
       "      <td>500</td>\n",
       "      <td>Subduction zone / Continental crust (&gt; 25 km)</td>\n",
       "      <td>Holocene</td>\n",
       "      <td>Eruption Observed</td>\n",
       "      <td>http://volcano.si.edu/photos/full/094048.jpg</td>\n",
       "      <td>Steam pours from cooling towers at Larderello,...</td>\n",
       "      <td>Photo by Giuseppina Kysar, 1985 (Smithsonian I...</td>\n",
       "      <td>No Data (checked)</td>\n",
       "      <td>POINT (43.25 10.87)</td>\n",
       "    </tr>\n",
       "  </tbody>\n",
       "</table>\n",
       "</div>"
      ],
      "text/plain": [
       "                                                 FID  Volcano_Number  \\\n",
       "0  VOTW_Holocene_Volcanoes.fid--4d9842f7_162e410d...          210010   \n",
       "1  VOTW_Holocene_Volcanoes.fid--4d9842f7_162e410d...          210020   \n",
       "2  VOTW_Holocene_Volcanoes.fid--4d9842f7_162e410d...          210030   \n",
       "3  VOTW_Holocene_Volcanoes.fid--4d9842f7_162e410d...          210040   \n",
       "4  VOTW_Holocene_Volcanoes.fid--4d9842f7_162e410d...          211001   \n",
       "\n",
       "                Volcano_Name Primary_Volcano_Type  Last_Eruption_Year  \\\n",
       "0  West Eifel Volcanic Field              Maar(s)             -8300.0   \n",
       "1            Chaine des Puys         Lava dome(s)             -4040.0   \n",
       "2        Olot Volcanic Field  Pyroclastic cone(s)                 NaN   \n",
       "3   Calatrava Volcanic Field  Pyroclastic cone(s)             -3600.0   \n",
       "4                 Larderello  Explosion crater(s)              1282.0   \n",
       "\n",
       "   Country                                 Geological_Summary  \\\n",
       "0  Germany  The West Eifel volcanic field in the Rhineland...   \n",
       "1   France  The Chaîne des Puys, prominent in the history ...   \n",
       "2    Spain  The Olot volcanic field (also known as the Gar...   \n",
       "3    Spain  The Calatrava volcanic field lies in central S...   \n",
       "4    Italy  Larderello, one of the world's most productive...   \n",
       "\n",
       "                           Region       Subregion  Latitude  Longitude  \\\n",
       "0  Mediterranean and Western Asia  Western Europe    50.170       6.85   \n",
       "1  Mediterranean and Western Asia  Western Europe    45.775       2.97   \n",
       "2  Mediterranean and Western Asia  Western Europe    42.170       2.53   \n",
       "3  Mediterranean and Western Asia  Western Europe    38.870      -4.02   \n",
       "4  Mediterranean and Western Asia           Italy    43.250      10.87   \n",
       "\n",
       "   Elevation                               Tectonic_Setting Geologic_Epoch  \\\n",
       "0        600        Rift zone / Continental crust (> 25 km)       Holocene   \n",
       "1       1464        Rift zone / Continental crust (> 25 km)       Holocene   \n",
       "2        893       Intraplate / Continental crust (> 25 km)       Holocene   \n",
       "3       1117       Intraplate / Continental crust (> 25 km)       Holocene   \n",
       "4        500  Subduction zone / Continental crust (> 25 km)       Holocene   \n",
       "\n",
       "   Evidence_Category                            Primary_Photo_Link  \\\n",
       "0     Eruption Dated  http://volcano.si.edu/photos/full/015001.jpg   \n",
       "1     Eruption Dated  http://volcano.si.edu/photos/full/088002.jpg   \n",
       "2  Evidence Credible  http://volcano.si.edu/photos/full/119091.jpg   \n",
       "3     Eruption Dated  http://volcano.si.edu/photos/full/118054.jpg   \n",
       "4  Eruption Observed  http://volcano.si.edu/photos/full/094048.jpg   \n",
       "\n",
       "                               Primary_Photo_Caption  \\\n",
       "0  The lake-filled Weinfelder maar is one of abou...   \n",
       "1  The central part of the Chaîne des Puys volcan...   \n",
       "2  The forested Volcà Montolivet cinder cone rise...   \n",
       "3  Columba volcano, the youngest dated vent of th...   \n",
       "4  Steam pours from cooling towers at Larderello,...   \n",
       "\n",
       "                                Primary_Photo_Credit  \\\n",
       "0  Photo by Richard Waitt, 1990 (U.S. Geological ...   \n",
       "1       Photo by Ichio Moriya (Kanazawa University).   \n",
       "2            Photo by Puigalder (Wikimedia Commons).   \n",
       "3  Photo by Rafael Becerra Ramírez, 2006 (Univers...   \n",
       "4  Photo by Giuseppina Kysar, 1985 (Smithsonian I...   \n",
       "\n",
       "                    Major_Rock_Type          GeoLocation  \n",
       "0                           Foidite   POINT (50.17 6.85)  \n",
       "1             Basalt / Picro-Basalt  POINT (45.775 2.97)  \n",
       "2  Trachybasalt / Tephrite Basanite   POINT (42.17 2.53)  \n",
       "3             Basalt / Picro-Basalt  POINT (38.87 -4.02)  \n",
       "4                 No Data (checked)  POINT (43.25 10.87)  "
      ]
     },
     "execution_count": 5,
     "metadata": {},
     "output_type": "execute_result"
    }
   ],
   "source": [
    "# Take a quick look at the first entries\n",
    "print('Entries= ', len(df))\n",
    "df = pd.read_csv(csvname)\n",
    "df.head()"
   ]
  },
  {
   "cell_type": "code",
   "execution_count": 6,
   "metadata": {},
   "outputs": [],
   "source": [
    "# Instead of filtering by bounding box, use a filter:\n",
    "query = owslib.fes.PropertyIsEqualTo(propertyname='Subregion', literal='Colombia', matchcase=True)\n",
    "querystr = owslib.etree.etree.tostring(query.toXML()).decode(\"utf-8\")\n",
    "\n",
    "response = wfs.getfeature(typename=typename, outputFormat=output, filter=querystr)\n",
    "df = pd.read_csv(StringIO(response.read()))"
   ]
  },
  {
   "cell_type": "code",
   "execution_count": 7,
   "metadata": {},
   "outputs": [
    {
     "name": "stdout",
     "output_type": "stream",
     "text": [
      "Entries=  15\n"
     ]
    },
    {
     "data": {
      "text/html": [
       "<div>\n",
       "<style scoped>\n",
       "    .dataframe tbody tr th:only-of-type {\n",
       "        vertical-align: middle;\n",
       "    }\n",
       "\n",
       "    .dataframe tbody tr th {\n",
       "        vertical-align: top;\n",
       "    }\n",
       "\n",
       "    .dataframe thead th {\n",
       "        text-align: right;\n",
       "    }\n",
       "</style>\n",
       "<table border=\"1\" class=\"dataframe\">\n",
       "  <thead>\n",
       "    <tr style=\"text-align: right;\">\n",
       "      <th></th>\n",
       "      <th>FID</th>\n",
       "      <th>Volcano_Number</th>\n",
       "      <th>Volcano_Name</th>\n",
       "      <th>Primary_Volcano_Type</th>\n",
       "      <th>Last_Eruption_Year</th>\n",
       "      <th>Country</th>\n",
       "      <th>Geological_Summary</th>\n",
       "      <th>Region</th>\n",
       "      <th>Subregion</th>\n",
       "      <th>Latitude</th>\n",
       "      <th>Longitude</th>\n",
       "      <th>Elevation</th>\n",
       "      <th>Tectonic_Setting</th>\n",
       "      <th>Geologic_Epoch</th>\n",
       "      <th>Evidence_Category</th>\n",
       "      <th>Primary_Photo_Link</th>\n",
       "      <th>Primary_Photo_Caption</th>\n",
       "      <th>Primary_Photo_Credit</th>\n",
       "      <th>Major_Rock_Type</th>\n",
       "      <th>GeoLocation</th>\n",
       "    </tr>\n",
       "  </thead>\n",
       "  <tbody>\n",
       "    <tr>\n",
       "      <th>0</th>\n",
       "      <td>VOTW_Holocene_Volcanoes.fid--4d9842f7_162e410d...</td>\n",
       "      <td>210010</td>\n",
       "      <td>West Eifel Volcanic Field</td>\n",
       "      <td>Maar(s)</td>\n",
       "      <td>-8300.0</td>\n",
       "      <td>Germany</td>\n",
       "      <td>The West Eifel volcanic field in the Rhineland...</td>\n",
       "      <td>Mediterranean and Western Asia</td>\n",
       "      <td>Western Europe</td>\n",
       "      <td>50.170</td>\n",
       "      <td>6.85</td>\n",
       "      <td>600</td>\n",
       "      <td>Rift zone / Continental crust (&gt; 25 km)</td>\n",
       "      <td>Holocene</td>\n",
       "      <td>Eruption Dated</td>\n",
       "      <td>http://volcano.si.edu/photos/full/015001.jpg</td>\n",
       "      <td>The lake-filled Weinfelder maar is one of abou...</td>\n",
       "      <td>Photo by Richard Waitt, 1990 (U.S. Geological ...</td>\n",
       "      <td>Foidite</td>\n",
       "      <td>POINT (50.17 6.85)</td>\n",
       "    </tr>\n",
       "    <tr>\n",
       "      <th>1</th>\n",
       "      <td>VOTW_Holocene_Volcanoes.fid--4d9842f7_162e410d...</td>\n",
       "      <td>210020</td>\n",
       "      <td>Chaine des Puys</td>\n",
       "      <td>Lava dome(s)</td>\n",
       "      <td>-4040.0</td>\n",
       "      <td>France</td>\n",
       "      <td>The Chaîne des Puys, prominent in the history ...</td>\n",
       "      <td>Mediterranean and Western Asia</td>\n",
       "      <td>Western Europe</td>\n",
       "      <td>45.775</td>\n",
       "      <td>2.97</td>\n",
       "      <td>1464</td>\n",
       "      <td>Rift zone / Continental crust (&gt; 25 km)</td>\n",
       "      <td>Holocene</td>\n",
       "      <td>Eruption Dated</td>\n",
       "      <td>http://volcano.si.edu/photos/full/088002.jpg</td>\n",
       "      <td>The central part of the Chaîne des Puys volcan...</td>\n",
       "      <td>Photo by Ichio Moriya (Kanazawa University).</td>\n",
       "      <td>Basalt / Picro-Basalt</td>\n",
       "      <td>POINT (45.775 2.97)</td>\n",
       "    </tr>\n",
       "    <tr>\n",
       "      <th>2</th>\n",
       "      <td>VOTW_Holocene_Volcanoes.fid--4d9842f7_162e410d...</td>\n",
       "      <td>210030</td>\n",
       "      <td>Olot Volcanic Field</td>\n",
       "      <td>Pyroclastic cone(s)</td>\n",
       "      <td>NaN</td>\n",
       "      <td>Spain</td>\n",
       "      <td>The Olot volcanic field (also known as the Gar...</td>\n",
       "      <td>Mediterranean and Western Asia</td>\n",
       "      <td>Western Europe</td>\n",
       "      <td>42.170</td>\n",
       "      <td>2.53</td>\n",
       "      <td>893</td>\n",
       "      <td>Intraplate / Continental crust (&gt; 25 km)</td>\n",
       "      <td>Holocene</td>\n",
       "      <td>Evidence Credible</td>\n",
       "      <td>http://volcano.si.edu/photos/full/119091.jpg</td>\n",
       "      <td>The forested Volcà Montolivet cinder cone rise...</td>\n",
       "      <td>Photo by Puigalder (Wikimedia Commons).</td>\n",
       "      <td>Trachybasalt / Tephrite Basanite</td>\n",
       "      <td>POINT (42.17 2.53)</td>\n",
       "    </tr>\n",
       "    <tr>\n",
       "      <th>3</th>\n",
       "      <td>VOTW_Holocene_Volcanoes.fid--4d9842f7_162e410d...</td>\n",
       "      <td>210040</td>\n",
       "      <td>Calatrava Volcanic Field</td>\n",
       "      <td>Pyroclastic cone(s)</td>\n",
       "      <td>-3600.0</td>\n",
       "      <td>Spain</td>\n",
       "      <td>The Calatrava volcanic field lies in central S...</td>\n",
       "      <td>Mediterranean and Western Asia</td>\n",
       "      <td>Western Europe</td>\n",
       "      <td>38.870</td>\n",
       "      <td>-4.02</td>\n",
       "      <td>1117</td>\n",
       "      <td>Intraplate / Continental crust (&gt; 25 km)</td>\n",
       "      <td>Holocene</td>\n",
       "      <td>Eruption Dated</td>\n",
       "      <td>http://volcano.si.edu/photos/full/118054.jpg</td>\n",
       "      <td>Columba volcano, the youngest dated vent of th...</td>\n",
       "      <td>Photo by Rafael Becerra Ramírez, 2006 (Univers...</td>\n",
       "      <td>Basalt / Picro-Basalt</td>\n",
       "      <td>POINT (38.87 -4.02)</td>\n",
       "    </tr>\n",
       "    <tr>\n",
       "      <th>4</th>\n",
       "      <td>VOTW_Holocene_Volcanoes.fid--4d9842f7_162e410d...</td>\n",
       "      <td>211001</td>\n",
       "      <td>Larderello</td>\n",
       "      <td>Explosion crater(s)</td>\n",
       "      <td>1282.0</td>\n",
       "      <td>Italy</td>\n",
       "      <td>Larderello, one of the world's most productive...</td>\n",
       "      <td>Mediterranean and Western Asia</td>\n",
       "      <td>Italy</td>\n",
       "      <td>43.250</td>\n",
       "      <td>10.87</td>\n",
       "      <td>500</td>\n",
       "      <td>Subduction zone / Continental crust (&gt; 25 km)</td>\n",
       "      <td>Holocene</td>\n",
       "      <td>Eruption Observed</td>\n",
       "      <td>http://volcano.si.edu/photos/full/094048.jpg</td>\n",
       "      <td>Steam pours from cooling towers at Larderello,...</td>\n",
       "      <td>Photo by Giuseppina Kysar, 1985 (Smithsonian I...</td>\n",
       "      <td>No Data (checked)</td>\n",
       "      <td>POINT (43.25 10.87)</td>\n",
       "    </tr>\n",
       "  </tbody>\n",
       "</table>\n",
       "</div>"
      ],
      "text/plain": [
       "                                                 FID  Volcano_Number  \\\n",
       "0  VOTW_Holocene_Volcanoes.fid--4d9842f7_162e410d...          210010   \n",
       "1  VOTW_Holocene_Volcanoes.fid--4d9842f7_162e410d...          210020   \n",
       "2  VOTW_Holocene_Volcanoes.fid--4d9842f7_162e410d...          210030   \n",
       "3  VOTW_Holocene_Volcanoes.fid--4d9842f7_162e410d...          210040   \n",
       "4  VOTW_Holocene_Volcanoes.fid--4d9842f7_162e410d...          211001   \n",
       "\n",
       "                Volcano_Name Primary_Volcano_Type  Last_Eruption_Year  \\\n",
       "0  West Eifel Volcanic Field              Maar(s)             -8300.0   \n",
       "1            Chaine des Puys         Lava dome(s)             -4040.0   \n",
       "2        Olot Volcanic Field  Pyroclastic cone(s)                 NaN   \n",
       "3   Calatrava Volcanic Field  Pyroclastic cone(s)             -3600.0   \n",
       "4                 Larderello  Explosion crater(s)              1282.0   \n",
       "\n",
       "   Country                                 Geological_Summary  \\\n",
       "0  Germany  The West Eifel volcanic field in the Rhineland...   \n",
       "1   France  The Chaîne des Puys, prominent in the history ...   \n",
       "2    Spain  The Olot volcanic field (also known as the Gar...   \n",
       "3    Spain  The Calatrava volcanic field lies in central S...   \n",
       "4    Italy  Larderello, one of the world's most productive...   \n",
       "\n",
       "                           Region       Subregion  Latitude  Longitude  \\\n",
       "0  Mediterranean and Western Asia  Western Europe    50.170       6.85   \n",
       "1  Mediterranean and Western Asia  Western Europe    45.775       2.97   \n",
       "2  Mediterranean and Western Asia  Western Europe    42.170       2.53   \n",
       "3  Mediterranean and Western Asia  Western Europe    38.870      -4.02   \n",
       "4  Mediterranean and Western Asia           Italy    43.250      10.87   \n",
       "\n",
       "   Elevation                               Tectonic_Setting Geologic_Epoch  \\\n",
       "0        600        Rift zone / Continental crust (> 25 km)       Holocene   \n",
       "1       1464        Rift zone / Continental crust (> 25 km)       Holocene   \n",
       "2        893       Intraplate / Continental crust (> 25 km)       Holocene   \n",
       "3       1117       Intraplate / Continental crust (> 25 km)       Holocene   \n",
       "4        500  Subduction zone / Continental crust (> 25 km)       Holocene   \n",
       "\n",
       "   Evidence_Category                            Primary_Photo_Link  \\\n",
       "0     Eruption Dated  http://volcano.si.edu/photos/full/015001.jpg   \n",
       "1     Eruption Dated  http://volcano.si.edu/photos/full/088002.jpg   \n",
       "2  Evidence Credible  http://volcano.si.edu/photos/full/119091.jpg   \n",
       "3     Eruption Dated  http://volcano.si.edu/photos/full/118054.jpg   \n",
       "4  Eruption Observed  http://volcano.si.edu/photos/full/094048.jpg   \n",
       "\n",
       "                               Primary_Photo_Caption  \\\n",
       "0  The lake-filled Weinfelder maar is one of abou...   \n",
       "1  The central part of the Chaîne des Puys volcan...   \n",
       "2  The forested Volcà Montolivet cinder cone rise...   \n",
       "3  Columba volcano, the youngest dated vent of th...   \n",
       "4  Steam pours from cooling towers at Larderello,...   \n",
       "\n",
       "                                Primary_Photo_Credit  \\\n",
       "0  Photo by Richard Waitt, 1990 (U.S. Geological ...   \n",
       "1       Photo by Ichio Moriya (Kanazawa University).   \n",
       "2            Photo by Puigalder (Wikimedia Commons).   \n",
       "3  Photo by Rafael Becerra Ramírez, 2006 (Univers...   \n",
       "4  Photo by Giuseppina Kysar, 1985 (Smithsonian I...   \n",
       "\n",
       "                    Major_Rock_Type          GeoLocation  \n",
       "0                           Foidite   POINT (50.17 6.85)  \n",
       "1             Basalt / Picro-Basalt  POINT (45.775 2.97)  \n",
       "2  Trachybasalt / Tephrite Basanite   POINT (42.17 2.53)  \n",
       "3             Basalt / Picro-Basalt  POINT (38.87 -4.02)  \n",
       "4                 No Data (checked)  POINT (43.25 10.87)  "
      ]
     },
     "execution_count": 7,
     "metadata": {},
     "output_type": "execute_result"
    }
   ],
   "source": [
    "print('Entries= ', len(df))\n",
    "df = pd.read_csv(csvname)\n",
    "df.head()"
   ]
  },
  {
   "cell_type": "code",
   "execution_count": 8,
   "metadata": {},
   "outputs": [],
   "source": [
    "# Load the eruptions database (full size is ~40Mb, so filtering helps reduce file size!)\n",
    "# Get Global Eruptions with VEI>4\n",
    "\n",
    "query = owslib.fes.PropertyIsGreaterThanOrEqualTo(propertyname='ExplosivityIndexMax', literal='4')\n",
    "querystr = owslib.etree.etree.tostring(query.toXML()).decode(\"utf-8\")\n",
    "\n",
    "typename = 'GVP-VOTW:VOTW_Holocene_Eruptions (test)'\n",
    "output = 'csv'\n",
    "response = wfs.getfeature(typename=typename, outputFormat=output, filter=querystr)\n",
    "# Again, save this one in case we want to revist the analysis\n",
    "csvname = 'votw-eruptions.csv'\n",
    "with open(csvname, 'w') as out:\n",
    "    out.write(response.read())\n",
    "    \n",
    "df = pd.read_csv(csvname)"
   ]
  },
  {
   "cell_type": "code",
   "execution_count": 9,
   "metadata": {},
   "outputs": [
    {
     "name": "stdout",
     "output_type": "stream",
     "text": [
      "Entries=  741\n",
      "Index(['FID', 'Volcano_Number', 'Volcano_Name', 'Eruption_Number',\n",
      "       'Activity_Type', 'ExplosivityIndexMax', 'ExplosivityIndexModifier',\n",
      "       'ActivityArea', 'ActivityUnit', 'StartEvidenceMethod',\n",
      "       'StartDateYearModifier', 'StartDateYear', 'StartDateYearUncertainty',\n",
      "       'StartDateDayModifier', 'StartDateMonth', 'StartDateDay',\n",
      "       'StartDateDayUncertainty', 'EndDateYearModifier', 'EndDateYear',\n",
      "       'EndDateYearUncertainty', 'EndDateDayModifier', 'EndDateMonth',\n",
      "       'EndDateDay', 'EndDateDayUncertainty', 'GeoLocation'],\n",
      "      dtype='object')\n"
     ]
    }
   ],
   "source": [
    "print('Entries= ', len(df))\n",
    "df.head()\n",
    "print(df.keys())"
   ]
  },
  {
   "cell_type": "code",
   "execution_count": 10,
   "metadata": {},
   "outputs": [
    {
     "name": "stdout",
     "output_type": "stream",
     "text": [
      "There are 741 recorded eruptions in this database\n",
      "The eruptions have occured at 259 volcanos\n"
     ]
    }
   ],
   "source": [
    "print('There are {0} recorded eruptions in this database'.format(len(df)))\n",
    "print('The eruptions have occured at {0} volcanos'.format(df.Volcano_Name.unique().size))"
   ]
  },
  {
   "cell_type": "code",
   "execution_count": 11,
   "metadata": {},
   "outputs": [
    {
     "data": {
      "text/html": [
       "<div>\n",
       "<style scoped>\n",
       "    .dataframe tbody tr th:only-of-type {\n",
       "        vertical-align: middle;\n",
       "    }\n",
       "\n",
       "    .dataframe tbody tr th {\n",
       "        vertical-align: top;\n",
       "    }\n",
       "\n",
       "    .dataframe thead th {\n",
       "        text-align: right;\n",
       "    }\n",
       "</style>\n",
       "<table border=\"1\" class=\"dataframe\">\n",
       "  <thead>\n",
       "    <tr style=\"text-align: right;\">\n",
       "      <th></th>\n",
       "      <th>FID</th>\n",
       "      <th>Volcano_Number</th>\n",
       "      <th>Volcano_Name</th>\n",
       "      <th>Eruption_Number</th>\n",
       "      <th>Activity_Type</th>\n",
       "      <th>ExplosivityIndexMax</th>\n",
       "      <th>ExplosivityIndexModifier</th>\n",
       "      <th>ActivityArea</th>\n",
       "      <th>ActivityUnit</th>\n",
       "      <th>StartEvidenceMethod</th>\n",
       "      <th>...</th>\n",
       "      <th>StartDateDay</th>\n",
       "      <th>StartDateDayUncertainty</th>\n",
       "      <th>EndDateYearModifier</th>\n",
       "      <th>EndDateYear</th>\n",
       "      <th>EndDateYearUncertainty</th>\n",
       "      <th>EndDateDayModifier</th>\n",
       "      <th>EndDateMonth</th>\n",
       "      <th>EndDateDay</th>\n",
       "      <th>EndDateDayUncertainty</th>\n",
       "      <th>GeoLocation</th>\n",
       "    </tr>\n",
       "  </thead>\n",
       "  <tbody>\n",
       "    <tr>\n",
       "      <th>0</th>\n",
       "      <td>VOTW_Holocene_Eruptions (test).fid--4d9842f7_1...</td>\n",
       "      <td>211010</td>\n",
       "      <td>Campi Flegrei</td>\n",
       "      <td>10018</td>\n",
       "      <td>Confirmed Eruption</td>\n",
       "      <td>4</td>\n",
       "      <td>NaN</td>\n",
       "      <td>NaN</td>\n",
       "      <td>Agnano Pomici Principali tephra</td>\n",
       "      <td>Radiocarbon (corrected)</td>\n",
       "      <td>...</td>\n",
       "      <td>0.0</td>\n",
       "      <td>NaN</td>\n",
       "      <td>NaN</td>\n",
       "      <td>NaN</td>\n",
       "      <td>NaN</td>\n",
       "      <td>NaN</td>\n",
       "      <td>NaN</td>\n",
       "      <td>NaN</td>\n",
       "      <td>NaN</td>\n",
       "      <td>POINT (40.827 14.139)</td>\n",
       "    </tr>\n",
       "    <tr>\n",
       "      <th>1</th>\n",
       "      <td>VOTW_Holocene_Eruptions (test).fid--4d9842f7_1...</td>\n",
       "      <td>211010</td>\n",
       "      <td>Campi Flegrei</td>\n",
       "      <td>10021</td>\n",
       "      <td>Confirmed Eruption</td>\n",
       "      <td>4</td>\n",
       "      <td>NaN</td>\n",
       "      <td>Fondi di Baia, Sartania</td>\n",
       "      <td>NaN</td>\n",
       "      <td>Radiocarbon (uncorrected)</td>\n",
       "      <td>...</td>\n",
       "      <td>0.0</td>\n",
       "      <td>NaN</td>\n",
       "      <td>NaN</td>\n",
       "      <td>NaN</td>\n",
       "      <td>NaN</td>\n",
       "      <td>NaN</td>\n",
       "      <td>NaN</td>\n",
       "      <td>NaN</td>\n",
       "      <td>NaN</td>\n",
       "      <td>POINT (40.827 14.139)</td>\n",
       "    </tr>\n",
       "    <tr>\n",
       "      <th>2</th>\n",
       "      <td>VOTW_Holocene_Eruptions (test).fid--4d9842f7_1...</td>\n",
       "      <td>211010</td>\n",
       "      <td>Campi Flegrei</td>\n",
       "      <td>10026</td>\n",
       "      <td>Confirmed Eruption</td>\n",
       "      <td>4</td>\n",
       "      <td>NaN</td>\n",
       "      <td>Cigliano</td>\n",
       "      <td>NaN</td>\n",
       "      <td>Tephrochronology</td>\n",
       "      <td>...</td>\n",
       "      <td>0.0</td>\n",
       "      <td>NaN</td>\n",
       "      <td>NaN</td>\n",
       "      <td>NaN</td>\n",
       "      <td>NaN</td>\n",
       "      <td>NaN</td>\n",
       "      <td>NaN</td>\n",
       "      <td>NaN</td>\n",
       "      <td>NaN</td>\n",
       "      <td>POINT (40.827 14.139)</td>\n",
       "    </tr>\n",
       "    <tr>\n",
       "      <th>3</th>\n",
       "      <td>VOTW_Holocene_Eruptions (test).fid--4d9842f7_1...</td>\n",
       "      <td>211010</td>\n",
       "      <td>Campi Flegrei</td>\n",
       "      <td>10033</td>\n",
       "      <td>Confirmed Eruption</td>\n",
       "      <td>5</td>\n",
       "      <td>NaN</td>\n",
       "      <td>Agnano Monte Spina</td>\n",
       "      <td>NaN</td>\n",
       "      <td>Radiocarbon (uncorrected)</td>\n",
       "      <td>...</td>\n",
       "      <td>0.0</td>\n",
       "      <td>NaN</td>\n",
       "      <td>NaN</td>\n",
       "      <td>NaN</td>\n",
       "      <td>NaN</td>\n",
       "      <td>NaN</td>\n",
       "      <td>NaN</td>\n",
       "      <td>NaN</td>\n",
       "      <td>NaN</td>\n",
       "      <td>POINT (40.827 14.139)</td>\n",
       "    </tr>\n",
       "    <tr>\n",
       "      <th>4</th>\n",
       "      <td>VOTW_Holocene_Eruptions (test).fid--4d9842f7_1...</td>\n",
       "      <td>211010</td>\n",
       "      <td>Campi Flegrei</td>\n",
       "      <td>10036</td>\n",
       "      <td>Confirmed Eruption</td>\n",
       "      <td>4</td>\n",
       "      <td>NaN</td>\n",
       "      <td>Averno</td>\n",
       "      <td>NaN</td>\n",
       "      <td>Tephrochronology</td>\n",
       "      <td>...</td>\n",
       "      <td>0.0</td>\n",
       "      <td>NaN</td>\n",
       "      <td>NaN</td>\n",
       "      <td>NaN</td>\n",
       "      <td>NaN</td>\n",
       "      <td>NaN</td>\n",
       "      <td>NaN</td>\n",
       "      <td>NaN</td>\n",
       "      <td>NaN</td>\n",
       "      <td>POINT (40.827 14.139)</td>\n",
       "    </tr>\n",
       "  </tbody>\n",
       "</table>\n",
       "<p>5 rows × 25 columns</p>\n",
       "</div>"
      ],
      "text/plain": [
       "                                                 FID  Volcano_Number  \\\n",
       "0  VOTW_Holocene_Eruptions (test).fid--4d9842f7_1...          211010   \n",
       "1  VOTW_Holocene_Eruptions (test).fid--4d9842f7_1...          211010   \n",
       "2  VOTW_Holocene_Eruptions (test).fid--4d9842f7_1...          211010   \n",
       "3  VOTW_Holocene_Eruptions (test).fid--4d9842f7_1...          211010   \n",
       "4  VOTW_Holocene_Eruptions (test).fid--4d9842f7_1...          211010   \n",
       "\n",
       "    Volcano_Name  Eruption_Number       Activity_Type  ExplosivityIndexMax  \\\n",
       "0  Campi Flegrei            10018  Confirmed Eruption                    4   \n",
       "1  Campi Flegrei            10021  Confirmed Eruption                    4   \n",
       "2  Campi Flegrei            10026  Confirmed Eruption                    4   \n",
       "3  Campi Flegrei            10033  Confirmed Eruption                    5   \n",
       "4  Campi Flegrei            10036  Confirmed Eruption                    4   \n",
       "\n",
       "  ExplosivityIndexModifier             ActivityArea  \\\n",
       "0                      NaN                      NaN   \n",
       "1                      NaN  Fondi di Baia, Sartania   \n",
       "2                      NaN                 Cigliano   \n",
       "3                      NaN       Agnano Monte Spina   \n",
       "4                      NaN                   Averno   \n",
       "\n",
       "                      ActivityUnit        StartEvidenceMethod  \\\n",
       "0  Agnano Pomici Principali tephra    Radiocarbon (corrected)   \n",
       "1                              NaN  Radiocarbon (uncorrected)   \n",
       "2                              NaN           Tephrochronology   \n",
       "3                              NaN  Radiocarbon (uncorrected)   \n",
       "4                              NaN           Tephrochronology   \n",
       "\n",
       "           ...           StartDateDay  StartDateDayUncertainty  \\\n",
       "0          ...                    0.0                      NaN   \n",
       "1          ...                    0.0                      NaN   \n",
       "2          ...                    0.0                      NaN   \n",
       "3          ...                    0.0                      NaN   \n",
       "4          ...                    0.0                      NaN   \n",
       "\n",
       "   EndDateYearModifier EndDateYear  EndDateYearUncertainty  \\\n",
       "0                  NaN         NaN                     NaN   \n",
       "1                  NaN         NaN                     NaN   \n",
       "2                  NaN         NaN                     NaN   \n",
       "3                  NaN         NaN                     NaN   \n",
       "4                  NaN         NaN                     NaN   \n",
       "\n",
       "   EndDateDayModifier  EndDateMonth EndDateDay  EndDateDayUncertainty  \\\n",
       "0                 NaN           NaN        NaN                    NaN   \n",
       "1                 NaN           NaN        NaN                    NaN   \n",
       "2                 NaN           NaN        NaN                    NaN   \n",
       "3                 NaN           NaN        NaN                    NaN   \n",
       "4                 NaN           NaN        NaN                    NaN   \n",
       "\n",
       "             GeoLocation  \n",
       "0  POINT (40.827 14.139)  \n",
       "1  POINT (40.827 14.139)  \n",
       "2  POINT (40.827 14.139)  \n",
       "3  POINT (40.827 14.139)  \n",
       "4  POINT (40.827 14.139)  \n",
       "\n",
       "[5 rows x 25 columns]"
      ]
     },
     "execution_count": 11,
     "metadata": {},
     "output_type": "execute_result"
    }
   ],
   "source": [
    "df.head()"
   ]
  },
  {
   "cell_type": "code",
   "execution_count": 12,
   "metadata": {},
   "outputs": [
    {
     "data": {
      "text/plain": [
       "<matplotlib.axes._subplots.AxesSubplot at 0x1266b9438>"
      ]
     },
     "execution_count": 12,
     "metadata": {},
     "output_type": "execute_result"
    },
    {
     "data": {
      "image/png": "[encoded data removed]",
      "text/plain": [
       "<Figure size 432x288 with 1 Axes>"
      ]
     },
     "metadata": {},
     "output_type": "display_data"
    }
   ],
   "source": [
    "# Histogram binned by eruption size\n",
    "# Default plots are super easy but not so pretty\n",
    "df.ExplosivityIndexMax.plot.hist()"
   ]
  },
  {
   "cell_type": "code",
   "execution_count": 13,
   "metadata": {},
   "outputs": [
    {
     "data": {
      "text/plain": [
       "Text(0.5,0,'VEI')"
      ]
     },
     "execution_count": 13,
     "metadata": {},
     "output_type": "execute_result"
    },
    {
     "data": {
      "image/png": "[encoded data removed]",
      "text/plain": [
       "<Figure size 432x288 with 1 Axes>"
      ]
     },
     "metadata": {},
     "output_type": "display_data"
    }
   ],
   "source": [
    "df.ExplosivityIndexMax.plot(kind='hist',\n",
    "                            bins=[4,5,6,7,8], \n",
    "                            xticks=[4,5,6,7], \n",
    "                            color='k',\n",
    "                            title='VOTW Holocene Eruptions',\n",
    "                            alpha=0.7,\n",
    "                            align='left',\n",
    "                           )\n",
    "plt.yscale('log')\n",
    "plt.xlabel('VEI')"
   ]
  },
  {
   "cell_type": "markdown",
   "metadata": {},
   "source": [
    "## Plot on a map with cartopy"
   ]
  },
  {
   "cell_type": "code",
   "execution_count": 14,
   "metadata": {},
   "outputs": [],
   "source": [
    "# Databases often have some strange lines and manual cleanup is necessary, in this case, there is a missing location point\n",
    "#df[df.GeoLocation.isna()]\n",
    "df = df.dropna(subset=['GeoLocation'])\n",
    "# Also, the VOTW has points in (lat,lon) instead of the more common (lon, lat)\n",
    "points = df.GeoLocation.apply(wkt.loads)\n",
    "df['Longitude'] = points.apply(lambda p: p.y)\n",
    "df['Latitude'] = points.apply(lambda p: p.x)"
   ]
  },
  {
   "cell_type": "code",
   "execution_count": 15,
   "metadata": {},
   "outputs": [
    {
     "data": {
      "text/plain": [
       "Text(0.5,1,'740 VOTW Eruptions (VEI>4)')"
      ]
     },
     "execution_count": 15,
     "metadata": {},
     "output_type": "execute_result"
    },
    {
     "data": {
      "image/png": "[encoded data removed]",
      "text/plain": [
       "<Figure size 792x612 with 1 Axes>"
      ]
     },
     "metadata": {},
     "output_type": "display_data"
    }
   ],
   "source": [
    "# Plot on a map with the excellent cartopy library\n",
    "plt.figure(figsize=(11, 8.5))\n",
    "ax = plt.axes(projection=ccrs.Robinson())\n",
    "ax.set_global()\n",
    "#ax.stock_img()  # Add background image (slow)\n",
    "ax.coastlines(resolution='110m', lw=2)\n",
    "plt.plot(df.Longitude, df.Latitude, 'r^', color='red', transform=ccrs.Geodetic(), label='GVP Volcanoes')\n",
    "#plt.legend()\n",
    "plt.title('{} VOTW Eruptions (VEI>4)'.format(df.shape[0]))"
   ]
  },
  {
   "cell_type": "markdown",
   "metadata": {},
   "source": [
    "## Geopandas for geospatial tabular data"
   ]
  },
  {
   "cell_type": "code",
   "execution_count": 16,
   "metadata": {},
   "outputs": [],
   "source": [
    "# Create a Geopandas Geodataframe\n",
    "geometry = df.apply(lambda x: shapely.geometry.Point(x['Longitude'],x['Latitude']), axis = 1)\n",
    "crs={'init': 'epsg:4326'}\n",
    "gf = gpd.GeoDataFrame(df, geometry=geometry, crs=crs)"
   ]
  },
  {
   "cell_type": "code",
   "execution_count": 17,
   "metadata": {},
   "outputs": [
    {
     "data": {
      "text/plain": [
       "FID                         VOTW_Holocene_Eruptions (test).fid--4d9842f7_1...\n",
       "Volcano_Number                                                         211010\n",
       "Volcano_Name                                                    Campi Flegrei\n",
       "Eruption_Number                                                         10018\n",
       "Activity_Type                                              Confirmed Eruption\n",
       "ExplosivityIndexMax                                                         4\n",
       "ExplosivityIndexModifier                                                  NaN\n",
       "ActivityArea                                                              NaN\n",
       "ActivityUnit                                  Agnano Pomici Principali tephra\n",
       "StartEvidenceMethod                                   Radiocarbon (corrected)\n",
       "StartDateYearModifier                                                     NaN\n",
       "StartDateYear                                                           -8480\n",
       "StartDateYearUncertainty                                                  100\n",
       "StartDateDayModifier                                                      NaN\n",
       "StartDateMonth                                                              0\n",
       "StartDateDay                                                                0\n",
       "StartDateDayUncertainty                                                   NaN\n",
       "EndDateYearModifier                                                       NaN\n",
       "EndDateYear                                                               NaN\n",
       "EndDateYearUncertainty                                                    NaN\n",
       "EndDateDayModifier                                                        NaN\n",
       "EndDateMonth                                                              NaN\n",
       "EndDateDay                                                                NaN\n",
       "EndDateDayUncertainty                                                     NaN\n",
       "GeoLocation                                             POINT (40.827 14.139)\n",
       "Longitude                                                              14.139\n",
       "Latitude                                                               40.827\n",
       "geometry                                                POINT (14.139 40.827)\n",
       "Name: 0, dtype: object"
      ]
     },
     "execution_count": 17,
     "metadata": {},
     "output_type": "execute_result"
    }
   ],
   "source": [
    "# First entry\n",
    "gf.iloc[0]"
   ]
  },
  {
   "cell_type": "code",
   "execution_count": 18,
   "metadata": {},
   "outputs": [
    {
     "data": {
      "image/svg+xml": [
       "<svg xmlns=\"http://www.w3.org/2000/svg\" xmlns:xlink=\"http://www.w3.org/1999/xlink\" width=\"100.0\" height=\"100.0\" viewBox=\"13.139 39.827 2.0 2.0\" preserveAspectRatio=\"xMinYMin meet\"><g transform=\"matrix(1,0,0,-1,0,81.654)\"><circle cx=\"14.139\" cy=\"40.827\" r=\"0.06\" stroke=\"#555555\" stroke-width=\"0.02\" fill=\"#66cc99\" opacity=\"0.6\" /></g></svg>"
      ],
      "text/plain": [
       "<shapely.geometry.point.Point at 0x1d2af097f0>"
      ]
     },
     "execution_count": 18,
     "metadata": {},
     "output_type": "execute_result"
    }
   ],
   "source": [
    "# This geopandas dataframe looks the same, but knows how to work with geospatial vector data:\n",
    "gf.geometry.iloc[0]"
   ]
  },
  {
   "cell_type": "code",
   "execution_count": 19,
   "metadata": {},
   "outputs": [
    {
     "data": {
      "text/plain": [
       "<matplotlib.axes._subplots.AxesSubplot at 0x1d2bbf6b38>"
      ]
     },
     "execution_count": 19,
     "metadata": {},
     "output_type": "execute_result"
    },
    {
     "data": {
      "image/png": "[encoded data removed]",
      "text/plain": [
       "<Figure size 432x288 with 1 Axes>"
      ]
     },
     "metadata": {},
     "output_type": "display_data"
    }
   ],
   "source": [
    "# So plotting is really easy\n",
    "gf.geometry.plot()"
   ]
  },
  {
   "cell_type": "code",
   "execution_count": 20,
   "metadata": {},
   "outputs": [
    {
     "name": "stdout",
     "output_type": "stream",
     "text": [
      "358057\n",
      "3 eruptions at Hudson, Cerro\n",
      "['Romeral' 'Bravo, Cerro' 'Ruiz, Nevado del' 'Tolima, Nevado del'\n",
      " 'Dona Juana' 'Azufral' 'Soche' 'Cuicocha' 'Cayambe' 'Pululagua'\n",
      " 'Reventador' 'Atacazo' 'Guagua Pichincha' 'Cotopaxi' 'Quilotoa'\n",
      " 'Tungurahua' 'Fernandina' 'Wolf' 'Misti, El' 'Ubinas' 'Huaynaputina'\n",
      " 'Tutupaca' 'Yucamane' 'Parinacota' 'Lascar' 'Blanco, Cerro'\n",
      " 'Planchon-Peteroa' 'Azul, Cerro' 'Sollipulli' 'Llaima' 'Villarrica'\n",
      " 'Carrán-Los Venados' 'Antillanca Group' 'Puyehue-Cordon Caulle' 'Osorno'\n",
      " 'Hornopiren' 'Apagado' 'Calbuco' 'Chaiten' 'Michinmahuida'\n",
      " 'Hudson, Cerro' 'Aguilera' 'Burney, Monte']\n"
     ]
    }
   ],
   "source": [
    "# What if you want to quickly look at eruptions in South America?\n",
    "# Note that the eruptions database and volcano database have different columns, but common volcano number ids\n",
    "# So you can query one database and select entries in the other very easily:\n",
    "# A few quick examples:\n",
    "\n",
    "# 1) Look at all eruptions of Cerro Hudson\n",
    "name = 'Hudson, Cerro'\n",
    "vid = dfV.query(\"Volcano_Name == @name\").Volcano_Number.values[0]\n",
    "print(vid)\n",
    "hudson = gf.query('Volcano_Number == @vid')\n",
    "n = len(hudson)\n",
    "print(f'{n} eruptions at {name}')\n",
    "\n",
    "# 2) Look at all eruptions in South America\n",
    "vid = dfV.query(\"Region == 'South America'\").Volcano_Number.values\n",
    "subset = gf[gf.Volcano_Number.isin(vid)]\n",
    "subset\n",
    "print(subset.Volcano_Name.unique())"
   ]
  },
  {
   "cell_type": "code",
   "execution_count": 21,
   "metadata": {},
   "outputs": [
    {
     "name": "stdout",
     "output_type": "stream",
     "text": [
      "Check out the awesome free interactive visualization this gives you!\n",
      "https://github.com/scottyhq/votw/blob/master/votw-vei4.geojson\n"
     ]
    }
   ],
   "source": [
    "# Save as geojson, which is automatically rendered on github!\n",
    "# NOTE: commented to not overwrite existing file\n",
    "#gf.to_file('votw-vei4.geojson', driver='GeoJSON')\n",
    "print('Check out the awesome free interactive visualization this gives you!')\n",
    "print('https://github.com/scottyhq/votw/blob/master/votw-vei4.geojson')"
   ]
  },
  {
   "cell_type": "markdown",
   "metadata": {},
   "source": [
    "## This is just scratching the surface of what you can do with these tools! "
   ]
  }
 ],
 "metadata": {
  "kernelspec": {
   "display_name": "Python 3",
   "language": "python",
   "name": "python3"
  },
  "language_info": {
   "codemirror_mode": {
    "name": "ipython",
    "version": 3
   },
   "file_extension": ".py",
   "mimetype": "text/x-python",
   "name": "python",
   "nbconvert_exporter": "python",
   "pygments_lexer": "ipython3",
   "version": "3.6.5"
  }
 },
 "nbformat": 4,
 "nbformat_minor": 2
}
